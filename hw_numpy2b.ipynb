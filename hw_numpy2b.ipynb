{
 "cells": [
  {
   "cell_type": "markdown",
   "id": "9377f782-0522-4e76-9c47-eb00ebf3eb87",
   "metadata": {},
   "source": [
    "<h2 style=\"color:blue;\">riddle 1</h2>"
   ]
  },
  {
   "cell_type": "code",
   "execution_count": 35,
   "id": "b17806c6-e636-420c-90ee-a354987fdc85",
   "metadata": {},
   "outputs": [
    {
     "data": {
      "text/plain": [
       "array([18, 19, 20, 21, 22, 23, 24, 25, 26, 27, 28, 29, 30, 31, 32, 33, 34,\n",
       "       35, 36, 37, 38, 39, 40, 41, 42, 43, 44, 45, 46, 47, 48, 49, 50, 51,\n",
       "       52, 53])"
      ]
     },
     "execution_count": 35,
     "metadata": {},
     "output_type": "execute_result"
    }
   ],
   "source": [
    "import numpy as np\n",
    "arr18_53 = np.arange(18,54)\n",
    "arr18_53"
   ]
  },
  {
   "cell_type": "code",
   "execution_count": 36,
   "id": "83506e93-0072-4168-bb60-81ddf3c2b285",
   "metadata": {},
   "outputs": [
    {
     "data": {
      "text/plain": [
       "array([[18, 19, 20, 21, 22, 23],\n",
       "       [24, 25, 26, 27, 28, 29],\n",
       "       [30, 31, 32, 33, 34, 35],\n",
       "       [36, 37, 38, 39, 40, 41],\n",
       "       [42, 43, 44, 45, 46, 47],\n",
       "       [48, 49, 50, 51, 52, 53]])"
      ]
     },
     "execution_count": 36,
     "metadata": {},
     "output_type": "execute_result"
    }
   ],
   "source": [
    "reshape_arr = arr18_53.reshape(6,6)\n",
    "reshape_arr"
   ]
  },
  {
   "cell_type": "code",
   "execution_count": 37,
   "id": "8ae0b46e-4c1e-46a9-b247-701034690f97",
   "metadata": {},
   "outputs": [
    {
     "name": "stdout",
     "output_type": "stream",
     "text": [
      "45\n",
      "The secret number is :  62\n"
     ]
    }
   ],
   "source": [
    "result_num = reshape_arr[4][3] + 17 \n",
    "print(reshape_arr[4][3])\n",
    "print(f\"The secret number is :  {result_num}\") # zero base"
   ]
  },
  {
   "cell_type": "markdown",
   "id": "3c60119b-fef0-4bf6-842b-dc671f54f73b",
   "metadata": {},
   "source": [
    "<h2 style=\"color:blue;\">riddle 2</h2>"
   ]
  },
  {
   "cell_type": "code",
   "execution_count": 39,
   "id": "289e7ce3-3967-4749-8f6d-ddf6b63136f9",
   "metadata": {},
   "outputs": [
    {
     "name": "stdout",
     "output_type": "stream",
     "text": [
      "The numbers is : 57.0\n"
     ]
    }
   ],
   "source": [
    "np.random.seed(42)\n",
    "arr_random100 = random_array = np.random.randint(1, 101, size=(5, 5))\n",
    "arr_random100\n",
    "print(f\"The numbers is : {np.max(arr_random100) /2 + 7}\")"
   ]
  },
  {
   "cell_type": "code",
   "execution_count": null,
   "id": "063c10a6-3d15-410d-9186-cd13e8b28924",
   "metadata": {},
   "outputs": [],
   "source": []
  }
 ],
 "metadata": {
  "kernelspec": {
   "display_name": "Python [conda env:base] *",
   "language": "python",
   "name": "conda-base-py"
  },
  "language_info": {
   "codemirror_mode": {
    "name": "ipython",
    "version": 3
   },
   "file_extension": ".py",
   "mimetype": "text/x-python",
   "name": "python",
   "nbconvert_exporter": "python",
   "pygments_lexer": "ipython3",
   "version": "3.12.7"
  }
 },
 "nbformat": 4,
 "nbformat_minor": 5
}
